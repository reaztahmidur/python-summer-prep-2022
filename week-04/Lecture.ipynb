{
 "cells": [
  {
   "cell_type": "markdown",
   "metadata": {},
   "source": [
    "# Create a random name picker\n"
   ]
  },
  {
   "cell_type": "code",
   "execution_count": 7,
   "metadata": {},
   "outputs": [
    {
     "name": "stdout",
     "output_type": "stream",
     "text": [
      "Tim\n"
     ]
    }
   ],
   "source": [
    "import random\n",
    "\n",
    "names = [\"John\", \"Tahmidur\", \"Hal\", \"Tim\"]\n",
    "\n",
    "print(names[random.randint(0,len(names)-1)])\n",
    "\n"
   ]
  },
  {
   "cell_type": "markdown",
   "metadata": {},
   "source": [
    "# What error will this raise?\n"
   ]
  },
  {
   "cell_type": "code",
   "execution_count": 14,
   "metadata": {},
   "outputs": [
    {
     "name": "stdout",
     "output_type": "stream",
     "text": [
      "Wrong type intsert int only\n"
     ]
    },
    {
     "data": {
      "text/plain": [
       "11"
      ]
     },
     "execution_count": 14,
     "metadata": {},
     "output_type": "execute_result"
    }
   ],
   "source": [
    "# What error will this raise?\n",
    "#TypeError\n",
    "def func(n):\n",
    "    try:\n",
    "        return n + 10\n",
    "    except TypeError:\n",
    "        print(\"Wrong type intsert int only\")\n",
    "        # raise TypeError\n",
    "\n",
    "func('Hello')\n",
    "func(1)"
   ]
  },
  {
   "cell_type": "markdown",
   "metadata": {},
   "source": [
    "# Lets fix this code\n"
   ]
  },
  {
   "cell_type": "code",
   "execution_count": 17,
   "metadata": {},
   "outputs": [
    {
     "name": "stdout",
     "output_type": "stream",
     "text": [
      "Charles Dickens died in 1870.\n",
      "William Thackeray died in 1863.\n",
      "Anthony Trollope died in 1882.\n",
      "Gerard Manley Hopkins died in 1889.\n"
     ]
    }
   ],
   "source": [
    "# Lets fix this code\n",
    "\n",
    "authors_dict = {\n",
    "    \"Charles Dickens\": \"1870\",\n",
    "    \"William Thackeray\": \"1863\",\n",
    "    \"Anthony Trollope\": \"1882\",\n",
    "    \"Gerard Manley Hopkins\": \"1889\"\n",
    "    }\n",
    "\n",
    "for author, date in authors_dict.items():\n",
    "    print (\"%s\" % author + \" died in \" + \"%s.\" % date)"
   ]
  },
  {
   "cell_type": "markdown",
   "metadata": {},
   "source": [
    "# What is wrong with the following use of this loop?"
   ]
  },
  {
   "cell_type": "code",
   "execution_count": 27,
   "metadata": {},
   "outputs": [
    {
     "name": "stdout",
     "output_type": "stream",
     "text": [
      "Patient's BMI is: 0.000367\n",
      "Patient's BMI is: 0.000297\n",
      "Patient's BMI is: 0.000076\n"
     ]
    }
   ],
   "source": [
    "from distutils.log import debug\n",
    "\n",
    "\n",
    "patients = [[70, 1.8], [80, 1.9], [150, 1.7]]\n",
    "\n",
    "def calculate_bmi(weight, height):\n",
    "    return weight / (height ** 2)\n",
    "\n",
    "for index in range(len(patients)):\n",
    "    weight, height = patients[index]\n",
    "    # print(weight, height)\n",
    "    bmi = calculate_bmi(height, weight)\n",
    "    print(\"Patient's BMI is: %f\" % bmi)\n",
    "    "
   ]
  },
  {
   "cell_type": "code",
   "execution_count": null,
   "metadata": {},
   "outputs": [],
   "source": []
  }
 ],
 "metadata": {
  "kernelspec": {
   "display_name": "Python 3.10.4 64-bit",
   "language": "python",
   "name": "python3"
  },
  "language_info": {
   "codemirror_mode": {
    "name": "ipython",
    "version": 3
   },
   "file_extension": ".py",
   "mimetype": "text/x-python",
   "name": "python",
   "nbconvert_exporter": "python",
   "pygments_lexer": "ipython3",
   "version": "3.10.4"
  },
  "vscode": {
   "interpreter": {
    "hash": "51e00c7b70e3cd06f378fcd44787805d116da1c9e50ada5641d01a97110381f1"
   }
  }
 },
 "nbformat": 4,
 "nbformat_minor": 4
}
